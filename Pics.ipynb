{
 "cells": [
  {
   "cell_type": "code",
   "execution_count": 1,
   "metadata": {
    "collapsed": false
   },
   "outputs": [],
   "source": [
    "import os\n",
    "from PIL import Image"
   ]
  },
  {
   "cell_type": "code",
   "execution_count": 3,
   "metadata": {
    "collapsed": true
   },
   "outputs": [],
   "source": [
    "first_class_train =  'data/1class_train/'\n",
    "second_class_train =  'data/2class_train/'\n",
    "third_class_train =  'data/3class_train/'\n",
    "\n",
    "first_class_test = 'data/1class_test/'\n",
    "second_class_test = 'data/2class_test/'\n",
    "third_class_test = 'data/3class_test/'"
   ]
  },
  {
   "cell_type": "code",
   "execution_count": 4,
   "metadata": {
    "collapsed": true
   },
   "outputs": [],
   "source": [
    "def norm_image(img):\n",
    "    \"\"\"\n",
    "    Normalize PIL image\n",
    "    \n",
    "    Normalizes luminance to (mean,std)=(0,1), and applies a [1%, 99%] contrast stretch\n",
    "    \"\"\"\n",
    "    img_y, img_b, img_r = img.convert('YCbCr').split()\n",
    "    \n",
    "    img_y_np = np.asarray(img_y).astype(float)\n",
    "\n",
    "    img_y_np /= 255\n",
    "    img_y_np -= img_y_np.mean()\n",
    "    img_y_np /= img_y_np.std()\n",
    "    scale = np.max([np.abs(np.percentile(img_y_np, 1.0)),\n",
    "                    np.abs(np.percentile(img_y_np, 99.0))])\n",
    "    img_y_np = img_y_np / scale\n",
    "    img_y_np = np.clip(img_y_np, -1.0, 1.0)\n",
    "    img_y_np = (img_y_np + 1.0) / 2.0\n",
    "    \n",
    "    img_y_np = (img_y_np * 255 + 0.5).astype(np.uint8)\n",
    "\n",
    "    img_y = Image.fromarray(img_y_np)\n",
    "\n",
    "    img_ybr = Image.merge('YCbCr', (img_y, img_b, img_r))\n",
    "    \n",
    "    img_nrm = img_ybr.convert('RGB')\n",
    "    \n",
    "    return img_nrm\n",
    "\n",
    "def norm_image_(img):\n",
    "    print(type(img))\n",
    "    return (img - 127) / 255"
   ]
  },
  {
   "cell_type": "code",
   "execution_count": 5,
   "metadata": {
    "collapsed": true
   },
   "outputs": [],
   "source": [
    "def imgToArray(image):\n",
    "    x=image.convert('L')\n",
    "    y=np.asarray(x.getdata(),dtype=np.float64).reshape((x.size[1],x.size[0]))\n",
    "    y=np.asarray(y,dtype=np.uint8) \n",
    "    return (y - 127) / 255\n",
    "    "
   ]
  },
  {
   "cell_type": "code",
   "execution_count": 6,
   "metadata": {
    "collapsed": true
   },
   "outputs": [],
   "source": [
    "def resize_image(img, size):\n",
    "\n",
    "    n_x, n_y = img.size\n",
    "    if n_y > n_x:\n",
    "        n_y_new = size\n",
    "        n_x_new = int(size * n_x / n_y + 0.5)\n",
    "    else:\n",
    "        n_x_new = size\n",
    "        n_y_new = int(size * n_y / n_x + 0.5)\n",
    "\n",
    "    img_res = img.resize((n_x_new, n_y_new), resample=PIL.Image.BICUBIC)\n",
    "\n",
    "    img_pad = Image.new('RGB', (size, size), (128, 128, 128))\n",
    "    ulc = ((size - n_x_new) // 2, (size - n_y_new) // 2)\n",
    "    img_pad.paste(img_res, ulc)\n",
    "\n",
    "    return img_pad\n"
   ]
  },
  {
   "cell_type": "code",
   "execution_count": 7,
   "metadata": {
    "collapsed": false
   },
   "outputs": [],
   "source": [
    "new_size = 224\n",
    "\n",
    "def getImages_wo_resize(path):\n",
    "    names = os.listdir(path)\n",
    "    img_arr = []\n",
    "    for name in names:\n",
    "        p = path + name\n",
    "        img = Image.open(p)\n",
    "        img_arr.append(img)\n",
    "    return img_arr\n",
    "\n",
    "def getImages(path):\n",
    "    names = os.listdir(path)\n",
    "    img_arr = []\n",
    "    for name in names:\n",
    "        p = path + name\n",
    "        img = Image.open(p)\n",
    "        #print(p)\n",
    "        img_arr.append(imgToArray(resize_image(norm_image(img), new_size)))\n",
    "    return img_arr\n",
    "\n",
    "\n",
    "def resize(img, size):\n",
    "    #wpercent = basewidth / img.size[0]\n",
    "    #hsize = int((float(img.size[1]) * float(wpercent)))\n",
    "    #return img.resize((basewidth,hsize), Image.ANTIALIAS)\n",
    "    return img.resize((size, size), Image.ANTIALIAS)"
   ]
  },
  {
   "cell_type": "code",
   "execution_count": 8,
   "metadata": {
    "collapsed": false
   },
   "outputs": [],
   "source": [
    "first_class_train_img = getImages(first_class_train)\n",
    "second_class_train_img = getImages(second_class_train)\n",
    "third_class_train_img = getImages(third_class_train)\n",
    "\n",
    "first_class_test_img = getImages(first_class_test)\n",
    "second_class_test_img = getImages(second_class_test)\n",
    "third_class_test_img = getImages(third_class_test)"
   ]
  },
  {
   "cell_type": "code",
   "execution_count": 11,
   "metadata": {
    "collapsed": false
   },
   "outputs": [
    {
     "name": "stderr",
     "output_type": "stream",
     "text": [
      "Using Theano backend.\n"
     ]
    }
   ],
   "source": [
    "from keras.models import Sequential\n",
    "from keras.layers import Dense, Dropout, Activation, Flatten\n",
    "from keras.layers.convolutional import Convolution2D, MaxPooling2D\n",
    "from keras.utils import np_utils\n",
    "\n",
    "img_rows, img_cols = 224, 224 \n"
   ]
  },
  {
   "cell_type": "code",
   "execution_count": 13,
   "metadata": {
    "collapsed": false
   },
   "outputs": [
    {
     "name": "stdout",
     "output_type": "stream",
     "text": [
      "1000\n",
      "(3000, 224, 224)\n",
      "3000\n"
     ]
    },
    {
     "data": {
      "text/plain": [
       "(300,)"
      ]
     },
     "execution_count": 13,
     "metadata": {},
     "output_type": "execute_result"
    }
   ],
   "source": [
    "# make (X_train, y_train), (X_test, y_test)\n",
    "\n",
    "import numpy as np\n",
    "\n",
    "X_train = np.array(first_class_train_img + second_class_train_img +third_class_train_img)\n",
    "y_train = np.array([np.repeat(0, len(first_class_train_img))] +\n",
    "                    [np.repeat(1, len(second_class_train_img))] +\n",
    "                    [np.repeat(2, len(second_class_train_img))])\n",
    "\n",
    "X_test = np.array(first_class_test_img+ second_class_test_img+ third_class_test_img)\n",
    "y_test = np.array([np.repeat(0, len(first_class_test_img))] +\n",
    "                    [np.repeat(1, len(second_class_test_img))] +\n",
    "                    [np.repeat(2, len(second_class_test_img))])\n",
    "\n",
    "                              \n",
    "len_train = len(first_class_train_img) + len(second_class_train_img) + len(third_class_train_img)\n",
    "print(len(first_class_train_img))\n",
    "print(X_train.shape)\n",
    "print(len_train)\n",
    "\n",
    "#X_train  = X_train.reshape(len_train)\n",
    "y_train = y_train.reshape(len_train)\n",
    "\n",
    "\n",
    "len_test = len(first_class_test_img) + len(second_class_test_img) + len(third_class_test_img)\n",
    "#X_test = X_test.reshape(len_test)\n",
    "y_test = y_test.reshape(len_test)\n",
    "\n",
    "y_test.shape"
   ]
  },
  {
   "cell_type": "code",
   "execution_count": 14,
   "metadata": {
    "collapsed": false
   },
   "outputs": [],
   "source": [
    "img_rows, img_cols = 224, 224\n"
   ]
  },
  {
   "cell_type": "code",
   "execution_count": 18,
   "metadata": {
    "collapsed": true
   },
   "outputs": [],
   "source": [
    "#theano\n",
    "\n",
    "X_train = X_train.reshape(X_train.shape[0], 1, img_rows, img_cols)\n",
    "X_test = X_test.reshape(X_test.shape[0], 1, img_rows, img_cols)\n",
    "input_shape = (1, img_rows, img_cols)\n",
    "\n",
    "X_train = X_train.astype('float32')\n",
    "X_test = X_test.astype('float32')\n",
    "#X_train /= 255\n",
    "#X_test /= 255\n",
    "\n",
    "Y_train = np_utils.to_categorical(y_train, 3)\n",
    "Y_test = np_utils.to_categorical(y_test, 3)\n",
    "\n",
    "model = Sequential()\n",
    "model.add(Convolution2D(20, 5, 5, border_mode='valid', input_shape=input_shape))\n",
    "model.add(Activation('relu'))\n",
    "model.add(Convolution2D(20, 5, 5))\n",
    "model.add(Activation('relu'))\n",
    "model.add(MaxPooling2D(pool_size=(2, 2)))\n",
    "model.add(Dropout(0.25))\n",
    "\n",
    "model.add(Flatten())\n",
    "model.add(Dense(128))\n",
    "model.add(Activation('relu'))\n",
    "model.add(Dropout(0.5))\n",
    "model.add(Dense(3))\n",
    "model.add(Activation('softmax'))\n",
    "\n",
    "model.compile(loss='categorical_crossentropy', optimizer='adam', metrics=['accuracy'])"
   ]
  },
  {
   "cell_type": "code",
   "execution_count": 16,
   "metadata": {
    "collapsed": false
   },
   "outputs": [
    {
     "name": "stdout",
     "output_type": "stream",
     "text": [
      "Train on 3000 samples, validate on 300 samples\n",
      "Epoch 1/4\n",
      "3000/3000 [==============================] - 419s - loss: 2.6262 - acc: 0.3247 - val_loss: 1.0986 - val_acc: 0.3333\n",
      "Epoch 2/4\n",
      "3000/3000 [==============================] - 408s - loss: 1.0906 - acc: 0.3697 - val_loss: 1.0799 - val_acc: 0.4133\n",
      "Epoch 3/4\n",
      "3000/3000 [==============================] - 406s - loss: 1.0423 - acc: 0.4627 - val_loss: 1.0714 - val_acc: 0.3800\n",
      "Epoch 4/4\n",
      "3000/3000 [==============================] - 405s - loss: 0.9340 - acc: 0.5703 - val_loss: 1.0777 - val_acc: 0.4133\n"
     ]
    }
   ],
   "source": [
    "nb_epoch = 4\n",
    "\n",
    "res = model.fit(X_train, Y_train, batch_size=128, nb_epoch=nb_epoch, verbose=1, validation_data=(X_test, Y_test), shuffle=True)\n",
    "score = model.evaluate(X_test, Y_test, verbose=0)"
   ]
  },
  {
   "cell_type": "markdown",
   "metadata": {},
   "source": [
    "### Recompile and run with 8 epoch"
   ]
  },
  {
   "cell_type": "code",
   "execution_count": 19,
   "metadata": {
    "collapsed": false
   },
   "outputs": [
    {
     "name": "stdout",
     "output_type": "stream",
     "text": [
      "Train on 3000 samples, validate on 300 samples\n",
      "Epoch 1/8\n",
      "3000/3000 [==============================] - 398s - loss: 1.5816 - acc: 0.3543 - val_loss: 1.0961 - val_acc: 0.3933\n",
      "Epoch 2/8\n",
      "3000/3000 [==============================] - 393s - loss: 1.0815 - acc: 0.4213 - val_loss: 1.0826 - val_acc: 0.4133\n",
      "Epoch 3/8\n",
      "3000/3000 [==============================] - 394s - loss: 1.0446 - acc: 0.4553 - val_loss: 1.0665 - val_acc: 0.4367\n",
      "Epoch 4/8\n",
      "3000/3000 [==============================] - 426s - loss: 0.9294 - acc: 0.5710 - val_loss: 1.0683 - val_acc: 0.4400\n",
      "Epoch 5/8\n",
      "3000/3000 [==============================] - 415s - loss: 0.7195 - acc: 0.7087 - val_loss: 1.1231 - val_acc: 0.4333\n",
      "Epoch 6/8\n",
      "3000/3000 [==============================] - 405s - loss: 0.4209 - acc: 0.8520 - val_loss: 1.3729 - val_acc: 0.4467\n",
      "Epoch 7/8\n",
      "3000/3000 [==============================] - 411s - loss: 0.2005 - acc: 0.9403 - val_loss: 1.8079 - val_acc: 0.4467\n",
      "Epoch 8/8\n",
      "3000/3000 [==============================] - 411s - loss: 0.1264 - acc: 0.9640 - val_loss: 1.8871 - val_acc: 0.4100\n"
     ]
    }
   ],
   "source": [
    "nb_epoch = 8\n",
    "\n",
    "res = model.fit(X_train, Y_train, batch_size=128, nb_epoch=nb_epoch, verbose=1, validation_data=(X_test, Y_test), shuffle=True)\n",
    "score = model.evaluate(X_test, Y_test, verbose=0)"
   ]
  },
  {
   "cell_type": "code",
   "execution_count": 17,
   "metadata": {
    "collapsed": false
   },
   "outputs": [
    {
     "data": {
      "image/png": "[encoded data removed]",
      "text/plain": [
       "<matplotlib.figure.Figure at 0x105a5e048>"
      ]
     },
     "metadata": {},
     "output_type": "display_data"
    },
    {
     "data": {
      "text/plain": [
       "<matplotlib.legend.Legend at 0x16aa8c4e0>"
      ]
     },
     "execution_count": 17,
     "metadata": {},
     "output_type": "execute_result"
    },
    {
     "data": {
      "image/png": "[encoded data removed]",
      "text/plain": [
       "<matplotlib.figure.Figure at 0x16aa8c390>"
      ]
     },
     "metadata": {},
     "output_type": "display_data"
    }
   ],
   "source": [
    "%matplotlib inline\n",
    "import matplotlib.pyplot as plt\n",
    "\n",
    "x = range(nb_epoch)\n",
    "\n",
    "plt.plot(x, res.history['acc'], label=\"train acc\")\n",
    "plt.plot(x, res.history['val_acc'], label=\"val acc\")\n",
    "plt.legend(loc='center left', bbox_to_anchor=(1, 0.5))\n",
    "plt.show()\n",
    "\n",
    "plt.plot(x, res.history['loss'], label=\"train loss\")\n",
    "plt.plot(x, res.history['val_loss'], label=\"val loss\")\n",
    "plt.legend(loc='center left', bbox_to_anchor=(1, 0.5))"
   ]
  },
  {
   "cell_type": "markdown",
   "metadata": {},
   "source": [
    "### Graphics for 8 epoch"
   ]
  },
  {
   "cell_type": "code",
   "execution_count": 21,
   "metadata": {
    "collapsed": false
   },
   "outputs": [
    {
     "data": {
      "image/png": "[encoded data removed]",
      "text/plain": [
       "<matplotlib.figure.Figure at 0x1631275f8>"
      ]
     },
     "metadata": {},
     "output_type": "display_data"
    },
    {
     "data": {
      "text/plain": [
       "<matplotlib.legend.Legend at 0x10b1294e0>"
      ]
     },
     "execution_count": 21,
     "metadata": {},
     "output_type": "execute_result"
    },
    {
     "data": {
      "image/png": "[encoded data removed]",
      "text/plain": [
       "<matplotlib.figure.Figure at 0x10b0d4d68>"
      ]
     },
     "metadata": {},
     "output_type": "display_data"
    }
   ],
   "source": [
    "x = range(nb_epoch)\n",
    "\n",
    "plt.plot(x, res.history['acc'], label=\"train acc\")\n",
    "plt.plot(x, res.history['val_acc'], label=\"val acc\")\n",
    "plt.legend(loc='center left', bbox_to_anchor=(1, 0.5))\n",
    "plt.show()\n",
    "\n",
    "plt.plot(x, res.history['loss'], label=\"train loss\")\n",
    "plt.plot(x, res.history['val_loss'], label=\"val loss\")\n",
    "plt.legend(loc='center left', bbox_to_anchor=(1, 0.5))"
   ]
  },
  {
   "cell_type": "code",
   "execution_count": null,
   "metadata": {
    "collapsed": true
   },
   "outputs": [],
   "source": []
  }
 ],
 "metadata": {
  "kernelspec": {
   "display_name": "Python 3",
   "language": "python",
   "name": "python3"
  },
  "language_info": {
   "codemirror_mode": {
    "name": "ipython",
    "version": 3
   },
   "file_extension": ".py",
   "mimetype": "text/x-python",
   "name": "python",
   "nbconvert_exporter": "python",
   "pygments_lexer": "ipython3",
   "version": "3.5.2"
  }
 },
 "nbformat": 4,
 "nbformat_minor": 1
}
